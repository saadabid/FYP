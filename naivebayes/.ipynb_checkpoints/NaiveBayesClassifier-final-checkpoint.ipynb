{
 "cells": [
  {
   "cell_type": "code",
   "execution_count": 1,
   "metadata": {
    "collapsed": true
   },
   "outputs": [],
   "source": [
    "import nltk\n",
    "import string"
   ]
  },
  {
   "cell_type": "code",
   "execution_count": 2,
   "metadata": {
    "collapsed": true
   },
   "outputs": [],
   "source": [
    "from nltk.corpus import stopwords\n",
    "from nltk.tokenize import word_tokenize"
   ]
  },
  {
   "cell_type": "code",
   "execution_count": 3,
   "metadata": {
    "collapsed": true
   },
   "outputs": [],
   "source": [
    "import pandas as pd"
   ]
  },
  {
   "cell_type": "code",
   "execution_count": 20,
   "metadata": {
    "collapsed": true
   },
   "outputs": [],
   "source": [
    "import pickle"
   ]
  },
  {
   "cell_type": "code",
   "execution_count": 4,
   "metadata": {
    "collapsed": true
   },
   "outputs": [],
   "source": [
    "from sklearn.feature_extraction.text import CountVectorizer\n",
    "from sklearn.feature_extraction.text import TfidfTransformer\n",
    "from sklearn.naive_bayes import MultinomialNB\n",
    "from sklearn.metrics import classification_report\n",
    "from sklearn.model_selection import train_test_split\n",
    "from sklearn.pipeline import Pipeline"
   ]
  },
  {
   "cell_type": "code",
   "execution_count": 5,
   "metadata": {
    "collapsed": true
   },
   "outputs": [],
   "source": [
    "import numpy as np"
   ]
  },
  {
   "cell_type": "code",
   "execution_count": 6,
   "metadata": {
    "collapsed": false
   },
   "outputs": [
    {
     "data": {
      "text/plain": [
       "839"
      ]
     },
     "execution_count": 6,
     "metadata": {},
     "output_type": "execute_result"
    }
   ],
   "source": [
    "dataSet = pd.read_csv(\"intentsfilenewnew.csv\", names=[\"inputs\", \"intents\"])\n",
    "len(dataSet)"
   ]
  },
  {
   "cell_type": "code",
   "execution_count": 7,
   "metadata": {
    "collapsed": false
   },
   "outputs": [
    {
     "data": {
      "text/html": [
       "<div>\n",
       "<table border=\"1\" class=\"dataframe\">\n",
       "  <thead>\n",
       "    <tr style=\"text-align: right;\">\n",
       "      <th></th>\n",
       "      <th>inputs</th>\n",
       "      <th>intents</th>\n",
       "    </tr>\n",
       "  </thead>\n",
       "  <tbody>\n",
       "    <tr>\n",
       "      <th>0</th>\n",
       "      <td>Kindly provide delivery time?</td>\n",
       "      <td>Delivery Time</td>\n",
       "    </tr>\n",
       "    <tr>\n",
       "      <th>1</th>\n",
       "      <td>In how many days it will be delivered to me?</td>\n",
       "      <td>Delivery Time</td>\n",
       "    </tr>\n",
       "    <tr>\n",
       "      <th>2</th>\n",
       "      <td>How many days will it take?</td>\n",
       "      <td>Delivery Time</td>\n",
       "    </tr>\n",
       "    <tr>\n",
       "      <th>3</th>\n",
       "      <td>How many days will it take?</td>\n",
       "      <td>Delivery Time</td>\n",
       "    </tr>\n",
       "    <tr>\n",
       "      <th>4</th>\n",
       "      <td>And when it will be delivered</td>\n",
       "      <td>Delivery Time</td>\n",
       "    </tr>\n",
       "    <tr>\n",
       "      <th>5</th>\n",
       "      <td>How many days u take for delivery</td>\n",
       "      <td>Delivery Time</td>\n",
       "    </tr>\n",
       "    <tr>\n",
       "      <th>6</th>\n",
       "      <td>Is it possible you can deliver on monday ?</td>\n",
       "      <td>Delivery Time</td>\n",
       "    </tr>\n",
       "    <tr>\n",
       "      <th>7</th>\n",
       "      <td>I want it on tuesday</td>\n",
       "      <td>Delivery Time</td>\n",
       "    </tr>\n",
       "    <tr>\n",
       "      <th>8</th>\n",
       "      <td>How many days u take for delivery</td>\n",
       "      <td>Delivery Time</td>\n",
       "    </tr>\n",
       "    <tr>\n",
       "      <th>9</th>\n",
       "      <td>Kb tk place ho jye gaa</td>\n",
       "      <td>Delivery Time</td>\n",
       "    </tr>\n",
       "    <tr>\n",
       "      <th>10</th>\n",
       "      <td>Is it possible you can deliver on monday ?</td>\n",
       "      <td>Delivery Time</td>\n",
       "    </tr>\n",
       "    <tr>\n",
       "      <th>11</th>\n",
       "      <td>Price kya ha or kb mily gA</td>\n",
       "      <td>Delivery Time</td>\n",
       "    </tr>\n",
       "    <tr>\n",
       "      <th>12</th>\n",
       "      <td>when it will shipped ?</td>\n",
       "      <td>Delivery Time</td>\n",
       "    </tr>\n",
       "    <tr>\n",
       "      <th>13</th>\n",
       "      <td>Then wts the price of full set along with name...</td>\n",
       "      <td>Delivery Time</td>\n",
       "    </tr>\n",
       "    <tr>\n",
       "      <th>14</th>\n",
       "      <td>How many days u take for delivery</td>\n",
       "      <td>Delivery Time</td>\n",
       "    </tr>\n",
       "    <tr>\n",
       "      <th>15</th>\n",
       "      <td>Price kya ha or kb mily gA</td>\n",
       "      <td>Delivery Time</td>\n",
       "    </tr>\n",
       "    <tr>\n",
       "      <th>16</th>\n",
       "      <td>How many days it will take to reach Rawalpindi</td>\n",
       "      <td>Delivery Time</td>\n",
       "    </tr>\n",
       "    <tr>\n",
       "      <th>17</th>\n",
       "      <td>And in how many days u will deliver</td>\n",
       "      <td>Delivery Time</td>\n",
       "    </tr>\n",
       "    <tr>\n",
       "      <th>18</th>\n",
       "      <td>In how many days u delivered??</td>\n",
       "      <td>Delivery Time</td>\n",
       "    </tr>\n",
       "    <tr>\n",
       "      <th>19</th>\n",
       "      <td>I am in Lahore...In how many days you may deli...</td>\n",
       "      <td>Delivery Time</td>\n",
       "    </tr>\n",
       "    <tr>\n",
       "      <th>20</th>\n",
       "      <td>Kitny days main delivery ho jati ha?</td>\n",
       "      <td>Delivery Time</td>\n",
       "    </tr>\n",
       "    <tr>\n",
       "      <th>21</th>\n",
       "      <td>when it will ship ?</td>\n",
       "      <td>Delivery Time</td>\n",
       "    </tr>\n",
       "    <tr>\n",
       "      <th>22</th>\n",
       "      <td>Till when will i get the parcels??</td>\n",
       "      <td>Delivery Time</td>\n",
       "    </tr>\n",
       "    <tr>\n",
       "      <th>23</th>\n",
       "      <td>Delivry kb tk hu gi</td>\n",
       "      <td>Delivery Time</td>\n",
       "    </tr>\n",
       "    <tr>\n",
       "      <th>24</th>\n",
       "      <td>Kb tk a jay ga</td>\n",
       "      <td>Delivery Time</td>\n",
       "    </tr>\n",
       "    <tr>\n",
       "      <th>25</th>\n",
       "      <td>Delivery time kitna h</td>\n",
       "      <td>Delivery Time</td>\n",
       "    </tr>\n",
       "    <tr>\n",
       "      <th>26</th>\n",
       "      <td>deliver ktne days me</td>\n",
       "      <td>Delivery Time</td>\n",
       "    </tr>\n",
       "    <tr>\n",
       "      <th>27</th>\n",
       "      <td>Ok brother. Plz try to deliver till Friday</td>\n",
       "      <td>Delivery Time</td>\n",
       "    </tr>\n",
       "    <tr>\n",
       "      <th>28</th>\n",
       "      <td>How much time will it take to deliver?</td>\n",
       "      <td>Delivery Time</td>\n",
       "    </tr>\n",
       "    <tr>\n",
       "      <th>29</th>\n",
       "      <td>In how many days u delivered??</td>\n",
       "      <td>Delivery Time</td>\n",
       "    </tr>\n",
       "    <tr>\n",
       "      <th>...</th>\n",
       "      <td>...</td>\n",
       "      <td>...</td>\n",
       "    </tr>\n",
       "    <tr>\n",
       "      <th>270</th>\n",
       "      <td>how can i order</td>\n",
       "      <td>Order</td>\n",
       "    </tr>\n",
       "    <tr>\n",
       "      <th>271</th>\n",
       "      <td>I want button keychain</td>\n",
       "      <td>Order</td>\n",
       "    </tr>\n",
       "    <tr>\n",
       "      <th>272</th>\n",
       "      <td>Where i send my order</td>\n",
       "      <td>Order</td>\n",
       "    </tr>\n",
       "    <tr>\n",
       "      <th>273</th>\n",
       "      <td>I need one black violet wd name</td>\n",
       "      <td>Order</td>\n",
       "    </tr>\n",
       "    <tr>\n",
       "      <th>274</th>\n",
       "      <td>Salam I want this wellat in Burgundy colourG.s...</td>\n",
       "      <td>Order</td>\n",
       "    </tr>\n",
       "    <tr>\n",
       "      <th>275</th>\n",
       "      <td>Hello id like to place an order for gsw-514</td>\n",
       "      <td>Order</td>\n",
       "    </tr>\n",
       "    <tr>\n",
       "      <th>276</th>\n",
       "      <td>I need this article</td>\n",
       "      <td>Order</td>\n",
       "    </tr>\n",
       "    <tr>\n",
       "      <th>277</th>\n",
       "      <td>can you tell me the total bill of it including...</td>\n",
       "      <td>Order</td>\n",
       "    </tr>\n",
       "    <tr>\n",
       "      <th>278</th>\n",
       "      <td>2 keychain black clr m fainal Kia hoga</td>\n",
       "      <td>Order</td>\n",
       "    </tr>\n",
       "    <tr>\n",
       "      <th>279</th>\n",
       "      <td>Hhmm ok I want 3 gift sets with 3 names</td>\n",
       "      <td>Order</td>\n",
       "    </tr>\n",
       "    <tr>\n",
       "      <th>280</th>\n",
       "      <td>I want to purchase a purse</td>\n",
       "      <td>Order</td>\n",
       "    </tr>\n",
       "    <tr>\n",
       "      <th>281</th>\n",
       "      <td>I need this 1 pc</td>\n",
       "      <td>Order</td>\n",
       "    </tr>\n",
       "    <tr>\n",
       "      <th>282</th>\n",
       "      <td>I wanna order this wallet</td>\n",
       "      <td>Order</td>\n",
       "    </tr>\n",
       "    <tr>\n",
       "      <th>283</th>\n",
       "      <td>how should i place my order ?</td>\n",
       "      <td>Order</td>\n",
       "    </tr>\n",
       "    <tr>\n",
       "      <th>284</th>\n",
       "      <td>How tu buy</td>\n",
       "      <td>Order</td>\n",
       "    </tr>\n",
       "    <tr>\n",
       "      <th>285</th>\n",
       "      <td>Noted..??</td>\n",
       "      <td>Order</td>\n",
       "    </tr>\n",
       "    <tr>\n",
       "      <th>286</th>\n",
       "      <td>Is there any difference in 501 and 502??</td>\n",
       "      <td>Order</td>\n",
       "    </tr>\n",
       "    <tr>\n",
       "      <th>287</th>\n",
       "      <td>Can u please send me some more pics ??</td>\n",
       "      <td>Order</td>\n",
       "    </tr>\n",
       "    <tr>\n",
       "      <th>288</th>\n",
       "      <td>Do u have best and cheap gift set for men???</td>\n",
       "      <td>Order</td>\n",
       "    </tr>\n",
       "    <tr>\n",
       "      <th>289</th>\n",
       "      <td>Is this available??</td>\n",
       "      <td>Order</td>\n",
       "    </tr>\n",
       "    <tr>\n",
       "      <th>290</th>\n",
       "      <td>Hi  I m interested in buying your Cow Leather ...</td>\n",
       "      <td>Order</td>\n",
       "    </tr>\n",
       "    <tr>\n",
       "      <th>291</th>\n",
       "      <td>Thickness??</td>\n",
       "      <td>Order</td>\n",
       "    </tr>\n",
       "    <tr>\n",
       "      <th>292</th>\n",
       "      <td>Or length??</td>\n",
       "      <td>Order</td>\n",
       "    </tr>\n",
       "    <tr>\n",
       "      <th>293</th>\n",
       "      <td>Can u snd me other pictrs of gsw 547...nd deli...</td>\n",
       "      <td>Order</td>\n",
       "    </tr>\n",
       "    <tr>\n",
       "      <th>294</th>\n",
       "      <td>Is there ur any outlet in lhr?</td>\n",
       "      <td>Order</td>\n",
       "    </tr>\n",
       "    <tr>\n",
       "      <th>295</th>\n",
       "      <td>What about Exchange &amp; return policy?</td>\n",
       "      <td>Order</td>\n",
       "    </tr>\n",
       "    <tr>\n",
       "      <th>296</th>\n",
       "      <td>Can u hav this article in bold curves?</td>\n",
       "      <td>Order</td>\n",
       "    </tr>\n",
       "    <tr>\n",
       "      <th>297</th>\n",
       "      <td>How can i return u article to u?</td>\n",
       "      <td>Order</td>\n",
       "    </tr>\n",
       "    <tr>\n",
       "      <th>298</th>\n",
       "      <td>Any colour fade prblm &amp; warranty?</td>\n",
       "      <td>Order</td>\n",
       "    </tr>\n",
       "    <tr>\n",
       "      <th>299</th>\n",
       "      <td>U people just work in wallet or any other things?</td>\n",
       "      <td>Order</td>\n",
       "    </tr>\n",
       "  </tbody>\n",
       "</table>\n",
       "<p>300 rows × 2 columns</p>\n",
       "</div>"
      ],
      "text/plain": [
       "                                                inputs        intents\n",
       "0                        Kindly provide delivery time?  Delivery Time\n",
       "1         In how many days it will be delivered to me?  Delivery Time\n",
       "2                          How many days will it take?  Delivery Time\n",
       "3                          How many days will it take?  Delivery Time\n",
       "4                        And when it will be delivered  Delivery Time\n",
       "5                    How many days u take for delivery  Delivery Time\n",
       "6           Is it possible you can deliver on monday ?  Delivery Time\n",
       "7                                 I want it on tuesday  Delivery Time\n",
       "8                    How many days u take for delivery  Delivery Time\n",
       "9                               Kb tk place ho jye gaa  Delivery Time\n",
       "10          Is it possible you can deliver on monday ?  Delivery Time\n",
       "11                          Price kya ha or kb mily gA  Delivery Time\n",
       "12                              when it will shipped ?  Delivery Time\n",
       "13   Then wts the price of full set along with name...  Delivery Time\n",
       "14                   How many days u take for delivery  Delivery Time\n",
       "15                          Price kya ha or kb mily gA  Delivery Time\n",
       "16      How many days it will take to reach Rawalpindi  Delivery Time\n",
       "17                 And in how many days u will deliver  Delivery Time\n",
       "18                      In how many days u delivered??  Delivery Time\n",
       "19   I am in Lahore...In how many days you may deli...  Delivery Time\n",
       "20                Kitny days main delivery ho jati ha?  Delivery Time\n",
       "21                                 when it will ship ?  Delivery Time\n",
       "22                  Till when will i get the parcels??  Delivery Time\n",
       "23                                 Delivry kb tk hu gi  Delivery Time\n",
       "24                                      Kb tk a jay ga  Delivery Time\n",
       "25                               Delivery time kitna h  Delivery Time\n",
       "26                                deliver ktne days me  Delivery Time\n",
       "27          Ok brother. Plz try to deliver till Friday  Delivery Time\n",
       "28              How much time will it take to deliver?  Delivery Time\n",
       "29                      In how many days u delivered??  Delivery Time\n",
       "..                                                 ...            ...\n",
       "270                                    how can i order          Order\n",
       "271                             I want button keychain          Order\n",
       "272                              Where i send my order          Order\n",
       "273                    I need one black violet wd name          Order\n",
       "274  Salam I want this wellat in Burgundy colourG.s...          Order\n",
       "275        Hello id like to place an order for gsw-514          Order\n",
       "276                                I need this article          Order\n",
       "277  can you tell me the total bill of it including...          Order\n",
       "278             2 keychain black clr m fainal Kia hoga          Order\n",
       "279            Hhmm ok I want 3 gift sets with 3 names          Order\n",
       "280                         I want to purchase a purse          Order\n",
       "281                                   I need this 1 pc          Order\n",
       "282                          I wanna order this wallet          Order\n",
       "283                      how should i place my order ?          Order\n",
       "284                                         How tu buy          Order\n",
       "285                                          Noted..??          Order\n",
       "286           Is there any difference in 501 and 502??          Order\n",
       "287             Can u please send me some more pics ??          Order\n",
       "288       Do u have best and cheap gift set for men???          Order\n",
       "289                                Is this available??          Order\n",
       "290  Hi  I m interested in buying your Cow Leather ...          Order\n",
       "291                                        Thickness??          Order\n",
       "292                                        Or length??          Order\n",
       "293  Can u snd me other pictrs of gsw 547...nd deli...          Order\n",
       "294                     Is there ur any outlet in lhr?          Order\n",
       "295               What about Exchange & return policy?          Order\n",
       "296             Can u hav this article in bold curves?          Order\n",
       "297                   How can i return u article to u?          Order\n",
       "298                  Any colour fade prblm & warranty?          Order\n",
       "299  U people just work in wallet or any other things?          Order\n",
       "\n",
       "[300 rows x 2 columns]"
      ]
     },
     "execution_count": 7,
     "metadata": {},
     "output_type": "execute_result"
    }
   ],
   "source": [
    "dataSet.head(300)"
   ]
  },
  {
   "cell_type": "code",
   "execution_count": 8,
   "metadata": {
    "collapsed": true
   },
   "outputs": [],
   "source": [
    "def text_process(mess):\n",
    "    \"\"\"\n",
    "    Takes in a string of text, then performs the following:\n",
    "    1. Remove all punctuation\n",
    "    2. Remove all stopwords\n",
    "    3. Returns a list of the cleaned text\n",
    "    \"\"\"\n",
    "    # Check characters to see if they are in punctuation\n",
    "    nopunc = [char for char in mess if char not in string.punctuation]\n",
    "\n",
    "    # Join the characters again to form the string.\n",
    "    nopunc = ''.join(nopunc)\n",
    "    \n",
    "    # Now just remove any stopwords\n",
    "    return [word for word in nopunc.split() if word.lower() not in stopwords.words('english')]"
   ]
  },
  {
   "cell_type": "code",
   "execution_count": null,
   "metadata": {
    "collapsed": true
   },
   "outputs": [],
   "source": []
  },
  {
   "cell_type": "code",
   "execution_count": 132,
   "metadata": {
    "collapsed": false
   },
   "outputs": [],
   "source": [
    "#dataSet['inputs'] = dataSet['inputs'].apply(text_process)"
   ]
  },
  {
   "cell_type": "code",
   "execution_count": 133,
   "metadata": {
    "collapsed": false
   },
   "outputs": [],
   "source": [
    "#dataSet.head()"
   ]
  },
  {
   "cell_type": "code",
   "execution_count": 9,
   "metadata": {
    "collapsed": false
   },
   "outputs": [
    {
     "name": "stdout",
     "output_type": "stream",
     "text": [
      "1188\n"
     ]
    }
   ],
   "source": [
    "# Might take awhile...\n",
    "bow_transformer = CountVectorizer(analyzer=text_process).fit(dataSet['inputs'])\n",
    "\n",
    "# Print total number of vocab words\n",
    "print(len(bow_transformer.vocabulary_))"
   ]
  },
  {
   "cell_type": "code",
   "execution_count": 10,
   "metadata": {
    "collapsed": true
   },
   "outputs": [],
   "source": [
    "pipeline = Pipeline([\n",
    "    ('bow', CountVectorizer(analyzer=text_process)),  # strings to token integer counts\n",
    "    ('tfidf', TfidfTransformer()),  # integer counts to weighted TF-IDF scores\n",
    "    ('classifier', MultinomialNB()),  # train on TF-IDF vectors w/ Naive Bayes classifier\n",
    "])"
   ]
  },
  {
   "cell_type": "code",
   "execution_count": 11,
   "metadata": {
    "collapsed": false
   },
   "outputs": [
    {
     "name": "stdout",
     "output_type": "stream",
     "text": [
      "587 252 839\n"
     ]
    }
   ],
   "source": [
    "msg_train, msg_test, label_train, label_test = \\\n",
    "train_test_split(dataSet['inputs'], dataSet['intents'], test_size=0.3)\n",
    "\n",
    "print(len(msg_train), len(msg_test), len(msg_train) + len(msg_test))"
   ]
  },
  {
   "cell_type": "code",
   "execution_count": 26,
   "metadata": {
    "collapsed": false
   },
   "outputs": [],
   "source": [
    "with open('conversation.pickle','wb') as f:\n",
    "    pickle.dump(pipeline.fit(msg_train,label_train),f)\n"
   ]
  },
  {
   "cell_type": "code",
   "execution_count": 27,
   "metadata": {
    "collapsed": false
   },
   "outputs": [
    {
     "name": "stdout",
     "output_type": "stream",
     "text": [
      "Pipeline(steps=[('bow', CountVectorizer(analyzer=<function text_process at 0x0000000706810BF8>,\n",
      "        binary=False, decode_error='strict', dtype=<class 'numpy.int64'>,\n",
      "        encoding='utf-8', input='content', lowercase=True, max_df=1.0,\n",
      "        max_features=None, min_df=1, ngram_range=(1, 1), preprocesso...f=False, use_idf=True)), ('classifier', MultinomialNB(alpha=1.0, class_prior=None, fit_prior=True))])\n"
     ]
    }
   ],
   "source": [
    "print(pipeline)"
   ]
  },
  {
   "cell_type": "code",
   "execution_count": 13,
   "metadata": {
    "collapsed": true
   },
   "outputs": [],
   "source": [
    "predictions = pipeline.predict(msg_test)"
   ]
  },
  {
   "cell_type": "code",
   "execution_count": 14,
   "metadata": {
    "collapsed": false
   },
   "outputs": [
    {
     "name": "stdout",
     "output_type": "stream",
     "text": [
      "['Order' 'imp questions/ queries to be answered by goshop' 'Delivery Time'\n",
      " 'Delivery Time' 'Delivery Time' 'Order' 'Order' 'Delivery Time'\n",
      " 'Delivery Time' 'imp questions/ queries to be answered by goshop' 'Order'\n",
      " 'Order' 'Order' 'Delivery Time' 'Order' 'Order' 'Order'\n",
      " 'imp questions/ queries to be answered by goshop' 'Delivery Time'\n",
      " 'Total Cost' 'Delivery Time' 'Order'\n",
      " 'imp questions/ queries to be answered by goshop' 'Total Cost'\n",
      " 'Delivery Time' 'Delivery Time' 'Delivery Time' 'Delivery Time' 'Order'\n",
      " 'Order' 'Delivery Time' 'Order' 'Order' 'Order' 'Order' 'Delivery Time'\n",
      " 'Delivery Charges' 'Order' 'Order' 'Order'\n",
      " 'imp questions/ queries to be answered by goshop' 'Delivery Time'\n",
      " 'Delivery Time' 'Delivery Time' 'Order' 'Delivery Time' 'Delivery Time'\n",
      " 'Order' 'Order' 'Delivery Time' 'Order' 'Delivery Time' 'Delivery Charges'\n",
      " 'Price' 'Order' 'Delivery Time'\n",
      " 'imp questions/ queries to be answered by goshop'\n",
      " 'imp questions/ queries to be answered by goshop' 'Order' 'Delivery Time'\n",
      " 'Quality' 'Delivery Time' 'Order' 'Order' 'Total Cost' 'Order' 'Price'\n",
      " 'Delivery Time' 'Order' 'Delivery Time' 'Delivery Time' 'Delivery Time'\n",
      " 'Total Cost' 'Order' 'imp questions/ queries to be answered by goshop'\n",
      " 'imp questions/ queries to be answered by goshop' 'Order'\n",
      " 'imp questions/ queries to be answered by goshop' 'Order' 'Order' 'Price'\n",
      " 'Delivery Time' 'Order' 'Order' 'Delivery Time' 'Total Cost'\n",
      " 'imp questions/ queries to be answered by goshop' 'Delivery Time'\n",
      " 'Delivery Time' 'Order' 'imp questions/ queries to be answered by goshop'\n",
      " 'Delivery Time' 'Delivery Time' 'Order'\n",
      " 'imp questions/ queries to be answered by goshop' 'Delivery Time'\n",
      " 'Delivery Time' 'imp questions/ queries to be answered by goshop'\n",
      " 'Delivery Time' 'Delivery Time' 'Order' 'Delivery Time' 'Delivery Time'\n",
      " 'Delivery Time' 'Delivery Time' 'Order' 'Order' 'Delivery Time'\n",
      " 'imp questions/ queries to be answered by goshop' 'Order' 'Delivery Time'\n",
      " 'Delivery Time' 'Delivery Time' 'Order' 'Price' 'Delivery Time' 'Price'\n",
      " 'Delivery Time' 'Order' 'Total Cost'\n",
      " 'imp questions/ queries to be answered by goshop' 'Order' 'Price' 'Order'\n",
      " 'Order' 'Delivery Time' 'Order'\n",
      " 'imp questions/ queries to be answered by goshop' 'Order' 'Delivery Time'\n",
      " 'Delivery Time' 'Order' 'Delivery Time'\n",
      " 'imp questions/ queries to be answered by goshop' 'Delivery Time'\n",
      " 'Delivery Time' 'Delivery Time' 'Order'\n",
      " 'imp questions/ queries to be answered by goshop' 'Order' 'Delivery Time'\n",
      " 'Delivery Time' 'imp questions/ queries to be answered by goshop' 'Order'\n",
      " 'imp questions/ queries to be answered by goshop' 'Delivery Time' 'Order'\n",
      " 'Delivery Time' 'Order' 'imp questions/ queries to be answered by goshop'\n",
      " 'Order' 'Delivery Time' 'Delivery Time'\n",
      " 'imp questions/ queries to be answered by goshop' 'Delivery Time'\n",
      " 'Delivery Time' 'Delivery Time'\n",
      " 'imp questions/ queries to be answered by goshop' 'Total Cost' 'Order'\n",
      " 'imp questions/ queries to be answered by goshop' 'Order' 'Order'\n",
      " 'Delivery Time' 'Order' 'Order' 'Total Cost'\n",
      " 'imp questions/ queries to be answered by goshop' 'Delivery Time'\n",
      " 'imp questions/ queries to be answered by goshop' 'Delivery Time'\n",
      " 'Delivery Time' 'Price' 'Order'\n",
      " 'imp questions/ queries to be answered by goshop' 'Delivery Time' 'Order'\n",
      " 'Delivery Time' 'imp questions/ queries to be answered by goshop'\n",
      " 'Delivery Time' 'Order' 'imp questions/ queries to be answered by goshop'\n",
      " 'imp questions/ queries to be answered by goshop' 'Order' 'Price'\n",
      " 'imp questions/ queries to be answered by goshop' 'Delivery Time'\n",
      " 'Total Cost' 'Order' 'Price' 'Order' 'Order' 'Delivery Time' 'Price'\n",
      " 'Total Cost' 'Order' 'imp questions/ queries to be answered by goshop'\n",
      " 'Order' 'Order' 'Delivery Time' 'Order' 'Delivery Time'\n",
      " 'imp questions/ queries to be answered by goshop' 'Order' 'Delivery Time'\n",
      " 'Price' 'Delivery Time' 'Total Cost' 'Price' 'Order' 'Delivery Time'\n",
      " 'Price' 'Order' 'Price' 'Delivery Time' 'Order' 'Order' 'Order' 'Order'\n",
      " 'Order' 'Delivery Time' 'Price'\n",
      " 'imp questions/ queries to be answered by goshop' 'Order' 'Order'\n",
      " 'Total Cost' 'Delivery Time' 'Total Cost'\n",
      " 'imp questions/ queries to be answered by goshop' 'Delivery Time' 'Order'\n",
      " 'imp questions/ queries to be answered by goshop' 'Order' 'Delivery Time'\n",
      " 'imp questions/ queries to be answered by goshop' 'Order' 'Order'\n",
      " 'imp questions/ queries to be answered by goshop' 'Price' 'Order'\n",
      " 'imp questions/ queries to be answered by goshop' 'Order'\n",
      " 'imp questions/ queries to be answered by goshop' 'Order' 'Delivery Time'\n",
      " 'Order' 'Price' 'Delivery Time' 'Price' 'Delivery Time' 'Delivery Time'\n",
      " 'Order']\n"
     ]
    }
   ],
   "source": [
    "print(predictions)"
   ]
  },
  {
   "cell_type": "code",
   "execution_count": 23,
   "metadata": {
    "collapsed": false
   },
   "outputs": [],
   "source": []
  },
  {
   "cell_type": "code",
   "execution_count": 15,
   "metadata": {
    "collapsed": false
   },
   "outputs": [
    {
     "name": "stdout",
     "output_type": "stream",
     "text": [
      "                                                 precision    recall  f1-score   support\n",
      "\n",
      "                               Delivery Charges       0.00      0.00      0.00         2\n",
      "                                Delivery Method       0.00      0.00      0.00         0\n",
      "                                  Delivery Time       0.93      0.59      0.72        87\n",
      "                                          Order       0.89      0.46      0.60        90\n",
      "                              Order Replacement       0.00      0.00      0.00         0\n",
      "                                   Order Status       0.00      0.00      0.00         0\n",
      "                                 Payment Method       0.00      0.00      0.00         0\n",
      "                                          Price       0.48      0.83      0.61        18\n",
      "                                        Quality       0.00      0.00      0.00         1\n",
      "                                     Total Cost       0.59      1.00      0.74        13\n",
      "                                       discount       0.00      0.00      0.00         0\n",
      "                                       feedback       0.00      0.00      0.00         0\n",
      "imp questions/ queries to be answered by goshop       0.36      0.37      0.36        41\n",
      "\n",
      "                                    avg / total       0.76      0.54      0.60       252\n",
      "\n"
     ]
    },
    {
     "name": "stderr",
     "output_type": "stream",
     "text": [
      "C:\\Users\\Muhammad Saad\\Anaconda3\\lib\\site-packages\\sklearn\\metrics\\classification.py:1115: UndefinedMetricWarning: Recall and F-score are ill-defined and being set to 0.0 in labels with no true samples.\n",
      "  'recall', 'true', average, warn_for)\n"
     ]
    }
   ],
   "source": [
    "print(classification_report(predictions,label_test))"
   ]
  },
  {
   "cell_type": "code",
   "execution_count": 16,
   "metadata": {
    "collapsed": false
   },
   "outputs": [],
   "source": [
    "labelTestDF = pd.DataFrame(label_test)\n",
    "predictionsDF = pd.DataFrame(predictions)\n",
    "testmDF = pd.DataFrame(msg_test)\n"
   ]
  },
  {
   "cell_type": "code",
   "execution_count": 17,
   "metadata": {
    "collapsed": false
   },
   "outputs": [
    {
     "data": {
      "text/html": [
       "<div>\n",
       "<table border=\"1\" class=\"dataframe\">\n",
       "  <thead>\n",
       "    <tr style=\"text-align: right;\">\n",
       "      <th></th>\n",
       "      <th>index</th>\n",
       "      <th>intents</th>\n",
       "    </tr>\n",
       "  </thead>\n",
       "  <tbody>\n",
       "    <tr>\n",
       "      <th>0</th>\n",
       "      <td>782</td>\n",
       "      <td>imp questions/ queries to be answered by goshop</td>\n",
       "    </tr>\n",
       "    <tr>\n",
       "      <th>1</th>\n",
       "      <td>824</td>\n",
       "      <td>feedback</td>\n",
       "    </tr>\n",
       "    <tr>\n",
       "      <th>2</th>\n",
       "      <td>404</td>\n",
       "      <td>Order Status</td>\n",
       "    </tr>\n",
       "    <tr>\n",
       "      <th>3</th>\n",
       "      <td>413</td>\n",
       "      <td>Order Status</td>\n",
       "    </tr>\n",
       "    <tr>\n",
       "      <th>4</th>\n",
       "      <td>209</td>\n",
       "      <td>Delivery Method</td>\n",
       "    </tr>\n",
       "  </tbody>\n",
       "</table>\n",
       "</div>"
      ],
      "text/plain": [
       "   index                                          intents\n",
       "0    782  imp questions/ queries to be answered by goshop\n",
       "1    824                                         feedback\n",
       "2    404                                     Order Status\n",
       "3    413                                     Order Status\n",
       "4    209                                  Delivery Method"
      ]
     },
     "execution_count": 17,
     "metadata": {},
     "output_type": "execute_result"
    }
   ],
   "source": [
    "labelTestDF1 = labelTestDF.reset_index()\n",
    "labelTestDF1.head()"
   ]
  },
  {
   "cell_type": "code",
   "execution_count": 18,
   "metadata": {
    "collapsed": false
   },
   "outputs": [
    {
     "data": {
      "text/html": [
       "<div>\n",
       "<table border=\"1\" class=\"dataframe\">\n",
       "  <thead>\n",
       "    <tr style=\"text-align: right;\">\n",
       "      <th></th>\n",
       "      <th>index</th>\n",
       "      <th>inputs</th>\n",
       "    </tr>\n",
       "  </thead>\n",
       "  <tbody>\n",
       "    <tr>\n",
       "      <th>0</th>\n",
       "      <td>782</td>\n",
       "      <td>I got an order from you But its not what i exp...</td>\n",
       "    </tr>\n",
       "    <tr>\n",
       "      <th>1</th>\n",
       "      <td>824</td>\n",
       "      <td>Quality is good. All things are good. Thanks</td>\n",
       "    </tr>\n",
       "    <tr>\n",
       "      <th>2</th>\n",
       "      <td>404</td>\n",
       "      <td>I would like to know delivery status of my pac...</td>\n",
       "    </tr>\n",
       "    <tr>\n",
       "      <th>3</th>\n",
       "      <td>413</td>\n",
       "      <td>Aj b parcel ni mila</td>\n",
       "    </tr>\n",
       "    <tr>\n",
       "      <th>4</th>\n",
       "      <td>209</td>\n",
       "      <td>How can I get this</td>\n",
       "    </tr>\n",
       "  </tbody>\n",
       "</table>\n",
       "</div>"
      ],
      "text/plain": [
       "   index                                             inputs\n",
       "0    782  I got an order from you But its not what i exp...\n",
       "1    824       Quality is good. All things are good. Thanks\n",
       "2    404  I would like to know delivery status of my pac...\n",
       "3    413                                Aj b parcel ni mila\n",
       "4    209                                 How can I get this"
      ]
     },
     "execution_count": 18,
     "metadata": {},
     "output_type": "execute_result"
    }
   ],
   "source": [
    "testmDF = testmDF.reset_index()\n",
    "testmDF.head()"
   ]
  },
  {
   "cell_type": "code",
   "execution_count": 19,
   "metadata": {
    "collapsed": false
   },
   "outputs": [
    {
     "data": {
      "text/html": [
       "<div>\n",
       "<table border=\"1\" class=\"dataframe\">\n",
       "  <thead>\n",
       "    <tr style=\"text-align: right;\">\n",
       "      <th></th>\n",
       "      <th>0</th>\n",
       "      <th>intents</th>\n",
       "      <th>inputs</th>\n",
       "    </tr>\n",
       "  </thead>\n",
       "  <tbody>\n",
       "    <tr>\n",
       "      <th>0</th>\n",
       "      <td>Order</td>\n",
       "      <td>imp questions/ queries to be answered by goshop</td>\n",
       "      <td>I got an order from you But its not what i exp...</td>\n",
       "    </tr>\n",
       "    <tr>\n",
       "      <th>1</th>\n",
       "      <td>imp questions/ queries to be answered by goshop</td>\n",
       "      <td>feedback</td>\n",
       "      <td>Quality is good. All things are good. Thanks</td>\n",
       "    </tr>\n",
       "    <tr>\n",
       "      <th>2</th>\n",
       "      <td>Delivery Time</td>\n",
       "      <td>Order Status</td>\n",
       "      <td>I would like to know delivery status of my pac...</td>\n",
       "    </tr>\n",
       "    <tr>\n",
       "      <th>3</th>\n",
       "      <td>Delivery Time</td>\n",
       "      <td>Order Status</td>\n",
       "      <td>Aj b parcel ni mila</td>\n",
       "    </tr>\n",
       "    <tr>\n",
       "      <th>4</th>\n",
       "      <td>Delivery Time</td>\n",
       "      <td>Delivery Method</td>\n",
       "      <td>How can I get this</td>\n",
       "    </tr>\n",
       "  </tbody>\n",
       "</table>\n",
       "</div>"
      ],
      "text/plain": [
       "                                                 0  \\\n",
       "0                                            Order   \n",
       "1  imp questions/ queries to be answered by goshop   \n",
       "2                                    Delivery Time   \n",
       "3                                    Delivery Time   \n",
       "4                                    Delivery Time   \n",
       "\n",
       "                                           intents  \\\n",
       "0  imp questions/ queries to be answered by goshop   \n",
       "1                                         feedback   \n",
       "2                                     Order Status   \n",
       "3                                     Order Status   \n",
       "4                                  Delivery Method   \n",
       "\n",
       "                                              inputs  \n",
       "0  I got an order from you But its not what i exp...  \n",
       "1       Quality is good. All things are good. Thanks  \n",
       "2  I would like to know delivery status of my pac...  \n",
       "3                                Aj b parcel ni mila  \n",
       "4                                 How can I get this  "
      ]
     },
     "execution_count": 19,
     "metadata": {},
     "output_type": "execute_result"
    }
   ],
   "source": [
    "result = pd.concat([predictionsDF[0], labelTestDF1['intents'], testmDF['inputs']], axis=1, ignore_index=False)\n",
    "result.head()"
   ]
  },
  {
   "cell_type": "code",
   "execution_count": 160,
   "metadata": {
    "collapsed": true
   },
   "outputs": [],
   "source": [
    "predictions = pipeline.predict([\"when it will delivered\"])"
   ]
  },
  {
   "cell_type": "code",
   "execution_count": 161,
   "metadata": {
    "collapsed": false
   },
   "outputs": [
    {
     "name": "stdout",
     "output_type": "stream",
     "text": [
      "['Delivery Time']\n"
     ]
    }
   ],
   "source": [
    "print(predictions)"
   ]
  },
  {
   "cell_type": "code",
   "execution_count": 34,
   "metadata": {
    "collapsed": true
   },
   "outputs": [],
   "source": [
    "import re"
   ]
  },
  {
   "cell_type": "code",
   "execution_count": 40,
   "metadata": {
    "collapsed": false
   },
   "outputs": [],
   "source": [
    "rs = re.search('price','Price plzz',re.M|re.I)"
   ]
  },
  {
   "cell_type": "code",
   "execution_count": 78,
   "metadata": {
    "collapsed": false
   },
   "outputs": [],
   "source": [
    "actual = np.array(label_test)"
   ]
  },
  {
   "cell_type": "code",
   "execution_count": 79,
   "metadata": {
    "collapsed": false
   },
   "outputs": [
    {
     "data": {
      "text/plain": [
       "array(['Price', 'Delivery Time',\n",
       "       'imp questions/ queries to be answered by goshop', 'Delivery Time',\n",
       "       'imp questions/ queries to be answered by goshop', 'Order Status',\n",
       "       'Quality', 'Order', 'Delivery Charges', 'Price', 'Order',\n",
       "       'imp questions/ queries to be answered by goshop',\n",
       "       'imp questions/ queries to be answered by goshop', 'Price',\n",
       "       'Payment Method', 'Delivery Time', 'Delivery Charges',\n",
       "       'imp questions/ queries to be answered by goshop', 'Quality',\n",
       "       'Delivery Time', 'Delivery Time', 'Order', 'Price', 'Delivery Time',\n",
       "       'Price', 'Order Status', 'Delivery Time',\n",
       "       'imp questions/ queries to be answered by goshop',\n",
       "       'imp questions/ queries to be answered by goshop', 'Delivery Time',\n",
       "       'Order', 'Order', 'Order', 'Delivery Time', 'Quality',\n",
       "       'imp questions/ queries to be answered by goshop', 'Delivery Time',\n",
       "       'imp questions/ queries to be answered by goshop', 'Order',\n",
       "       'discount', 'Order Status', 'Price', 'Delivery Time',\n",
       "       'imp questions/ queries to be answered by goshop',\n",
       "       'imp questions/ queries to be answered by goshop',\n",
       "       'imp questions/ queries to be answered by goshop', 'Delivery Time',\n",
       "       'Price', 'feedback', 'Order', 'Delivery Time',\n",
       "       'imp questions/ queries to be answered by goshop', 'Price',\n",
       "       'Total Cost', 'Payment Method', 'Order Status', 'feedback',\n",
       "       'Delivery Time', 'Delivery Time', 'Delivery Time', 'Order', 'Order',\n",
       "       'Total Cost', 'Order', 'Order', 'Delivery Time', 'Order', 'Order',\n",
       "       'Payment Method', 'imp questions/ queries to be answered by goshop',\n",
       "       'Order', 'Price', 'Delivery Time', 'Delivery Time', 'Order',\n",
       "       'feedback', 'Price', 'Quality', 'Total Cost', 'Delivery Time',\n",
       "       'Order', 'Discount', 'Order', 'Quality', 'Order', 'Total Cost',\n",
       "       'imp questions/ queries to be answered by goshop', 'Order', 'Price',\n",
       "       'imp questions/ queries to be answered by goshop', 'Order', 'Order',\n",
       "       'Order', 'Delivery Time', 'Order',\n",
       "       'imp questions/ queries to be answered by goshop',\n",
       "       'Delivery Charges', 'Price', 'Delivery Time', 'feedback',\n",
       "       'feedback', 'Order',\n",
       "       'imp questions/ queries to be answered by goshop', 'discount',\n",
       "       'Order', 'Order', 'Discount', 'Total Cost', 'Order',\n",
       "       'imp questions/ queries to be answered by goshop', 'Total Cost',\n",
       "       'imp questions/ queries to be answered by goshop', 'Total Cost',\n",
       "       'imp questions/ queries to be answered by goshop', 'Order',\n",
       "       'Delivery Time', 'Price', 'Order Status', 'Total Cost',\n",
       "       'Payment Method', 'Order', 'Delivery Time', 'Price',\n",
       "       'imp questions/ queries to be answered by goshop', 'Order', 'Order',\n",
       "       'Total Cost', 'Order', 'Price', 'Order Status', 'Delivery Time',\n",
       "       'imp questions/ queries to be answered by goshop', 'Delivery Time',\n",
       "       'Order', 'Order Status', 'discount',\n",
       "       'imp questions/ queries to be answered by goshop', 'Total Cost',\n",
       "       'Total Cost', 'imp questions/ queries to be answered by goshop',\n",
       "       'Delivery Time', 'Order', 'Delivery Time', 'Price', 'Total Cost',\n",
       "       'Order', 'Quality', 'Price',\n",
       "       'imp questions/ queries to be answered by goshop',\n",
       "       'imp questions/ queries to be answered by goshop', 'Quality',\n",
       "       'Delivery Time', 'Order', 'Order Status', 'Delivery Time',\n",
       "       'Delivery Charges', 'Order',\n",
       "       'imp questions/ queries to be answered by goshop', 'feedback',\n",
       "       'Price', 'Delivery Time', 'Order', 'Total Cost', 'Price',\n",
       "       'imp questions/ queries to be answered by goshop', 'Delivery Time',\n",
       "       'Delivery Time', 'Order', 'Order Status', 'Order',\n",
       "       'Delivery Charges', 'feedback',\n",
       "       'imp questions/ queries to be answered by goshop', 'Delivery Time',\n",
       "       'Quality', 'Total Cost', 'feedback', 'Order', 'Price',\n",
       "       'imp questions/ queries to be answered by goshop', 'Order',\n",
       "       'Total Cost', 'Quality', 'Quality', 'Delivery Time',\n",
       "       'Delivery Charges', 'Delivery Time', 'Delivery Time',\n",
       "       'Delivery Method', 'Total Cost',\n",
       "       'imp questions/ queries to be answered by goshop', 'Order',\n",
       "       'Total Cost', 'Order', 'Delivery Charges', 'Delivery Time',\n",
       "       'Delivery Time', 'Price', 'Order', 'Quality', 'Order', 'Price',\n",
       "       'feedback', 'Delivery Time',\n",
       "       'imp questions/ queries to be answered by goshop', 'Order',\n",
       "       'imp questions/ queries to be answered by goshop',\n",
       "       'imp questions/ queries to be answered by goshop',\n",
       "       'Delivery Charges',\n",
       "       'imp questions/ queries to be answered by goshop', 'Order',\n",
       "       'feedback', 'Delivery Time', 'Total Cost', 'Delivery Time',\n",
       "       'Delivery Time', 'Order', 'Quality',\n",
       "       'imp questions/ queries to be answered by goshop', 'Order', 'Price',\n",
       "       'feedback', 'Price', 'Delivery Time', 'Order', 'Delivery Time',\n",
       "       'discount', 'imp questions/ queries to be answered by goshop',\n",
       "       'Total Cost', 'Price', 'Delivery Time', 'Order', 'Delivery Time',\n",
       "       'Delivery Time', 'Order', 'Delivery Time',\n",
       "       'imp questions/ queries to be answered by goshop', 'feedback',\n",
       "       'Total Cost', 'Order',\n",
       "       'imp questions/ queries to be answered by goshop',\n",
       "       'imp questions/ queries to be answered by goshop',\n",
       "       'imp questions/ queries to be answered by goshop',\n",
       "       'imp questions/ queries to be answered by goshop', 'Delivery Time',\n",
       "       'Order', 'Order', 'Order Replacement', 'Delivery Time',\n",
       "       'Delivery Time', 'Delivery Time'], dtype=object)"
      ]
     },
     "execution_count": 79,
     "metadata": {},
     "output_type": "execute_result"
    }
   ],
   "source": [
    "actual"
   ]
  },
  {
   "cell_type": "code",
   "execution_count": 80,
   "metadata": {
    "collapsed": true
   },
   "outputs": [],
   "source": [
    "count = 0"
   ]
  },
  {
   "cell_type": "code",
   "execution_count": 81,
   "metadata": {
    "collapsed": false
   },
   "outputs": [],
   "source": [
    "for i in range (len(predictions)):\n",
    "    if(predictions[i]==actual[i]):\n",
    "        count = count  + 1"
   ]
  },
  {
   "cell_type": "code",
   "execution_count": 82,
   "metadata": {
    "collapsed": false
   },
   "outputs": [
    {
     "data": {
      "text/plain": [
       "137"
      ]
     },
     "execution_count": 82,
     "metadata": {},
     "output_type": "execute_result"
    }
   ],
   "source": [
    "count"
   ]
  },
  {
   "cell_type": "code",
   "execution_count": 83,
   "metadata": {
    "collapsed": false
   },
   "outputs": [
    {
     "data": {
      "text/plain": [
       "251"
      ]
     },
     "execution_count": 83,
     "metadata": {},
     "output_type": "execute_result"
    }
   ],
   "source": [
    "len(predictions)"
   ]
  },
  {
   "cell_type": "code",
   "execution_count": 85,
   "metadata": {
    "collapsed": false
   },
   "outputs": [
    {
     "data": {
      "text/plain": [
       "0.545816733067729"
      ]
     },
     "execution_count": 85,
     "metadata": {},
     "output_type": "execute_result"
    }
   ],
   "source": [
    "137/251"
   ]
  },
  {
   "cell_type": "code",
   "execution_count": null,
   "metadata": {
    "collapsed": true
   },
   "outputs": [],
   "source": []
  }
 ],
 "metadata": {
  "kernelspec": {
   "display_name": "Python 3",
   "language": "python",
   "name": "python3"
  },
  "language_info": {
   "codemirror_mode": {
    "name": "ipython",
    "version": 3
   },
   "file_extension": ".py",
   "mimetype": "text/x-python",
   "name": "python",
   "nbconvert_exporter": "python",
   "pygments_lexer": "ipython3",
   "version": "3.6.0"
  }
 },
 "nbformat": 4,
 "nbformat_minor": 2
}
